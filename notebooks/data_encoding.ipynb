{
 "cells": [
  {
   "cell_type": "markdown",
   "metadata": {},
   "source": [
    "# Encoding protein sequences with one-hot and AAindex encoding\n",
    "\n",
    "This notebook shows how to encode protein sequences with a combination of one-hot and AAindex encoding.\n",
    "The resulting encoded sequences are used as input to the neural networks."
   ]
  },
  {
   "cell_type": "code",
   "execution_count": 1,
   "metadata": {},
   "outputs": [],
   "source": [
    "# reload modules before executing code in order to make development and debugging easier\n",
    "%load_ext autoreload\n",
    "%autoreload 2"
   ]
  },
  {
   "cell_type": "code",
   "execution_count": 1,
   "metadata": {},
   "outputs": [],
   "source": [
    "# this jupyter notebook is running inside of the \"notebooks\" directory\n",
    "# for relative paths to work properly, we need to set the current working directory to the root of the project\n",
    "# for imports to work properly, we need to add the code folder to the system path\n",
    "import os\n",
    "from os.path import abspath, join, isdir\n",
    "import sys\n",
    "if not isdir(\"notebooks\"):\n",
    "    # if there's a \"notebooks\" directory in the cwd, we've already set the cwd so no need to do it again\n",
    "    os.chdir(\"..\")\n",
    "module_path = abspath(\"code\")\n",
    "if module_path not in sys.path:\n",
    "    sys.path.append(module_path)"
   ]
  },
  {
   "cell_type": "code",
   "execution_count": 2,
   "metadata": {},
   "outputs": [],
   "source": [
    "import numpy as np\n",
    "import constants\n",
    "import encode as enc"
   ]
  },
  {
   "cell_type": "code",
   "execution_count": 3,
   "metadata": {},
   "outputs": [
    {
     "data": {
      "text/plain": [
       "array([[-1.20350152e-01,  5.42581367e+00,  1.70167446e+01,\n",
       "         2.20421433e+00,  2.81965852e+00,  3.03139782e+00,\n",
       "        -3.77325773e+00, -4.51975614e-01,  3.96887374e+00,\n",
       "        -1.78279221e+00,  8.02974701e-01,  1.69522071e+00,\n",
       "         2.01125598e+00,  1.66262484e+00,  5.32224655e+00,\n",
       "         4.57231569e+00,  1.97126663e+00, -2.26111293e+00,\n",
       "         6.63553357e-01],\n",
       "       [ 8.22706604e+00,  8.15196609e+00, -6.01552105e+00,\n",
       "        -1.43637590e+01,  1.24458961e+01, -7.31303787e+00,\n",
       "        -3.36787295e+00, -5.20933151e+00, -1.91490364e+00,\n",
       "         4.09993124e+00,  2.07780027e+00,  8.94995213e-01,\n",
       "         1.29136181e+00, -3.93140763e-01, -7.04672337e-01,\n",
       "         6.00543201e-01,  4.52601723e-02, -6.93937361e-01,\n",
       "         5.89501560e-01],\n",
       "       [-1.85021572e+01, -3.04121518e+00, -7.49196038e-02,\n",
       "        -1.68545008e+00,  5.73821878e+00,  5.06379223e+00,\n",
       "         9.41339207e+00, -2.16880608e+00, -1.97001410e+00,\n",
       "        -1.62866640e+00,  1.51652515e+00, -1.24244821e+00,\n",
       "        -3.25800157e+00,  5.80995798e+00, -2.18775129e+00,\n",
       "         5.61370909e-01,  3.47199821e+00, -1.20359235e-01,\n",
       "        -5.89894168e-02],\n",
       "       [-1.21658974e+01, -1.19113483e+01,  1.05555229e+01,\n",
       "         4.39520502e+00,  7.92674398e+00,  4.11378813e+00,\n",
       "         4.76631880e+00, -3.68636870e+00, -2.37205100e+00,\n",
       "        -1.41990495e+00, -4.96875674e-01,  2.38451362e+00,\n",
       "         3.45940709e+00, -4.02576685e+00, -2.59682804e-01,\n",
       "        -1.29210484e+00, -4.85183048e+00,  7.36814320e-01,\n",
       "         4.67636973e-01],\n",
       "       [ 1.96881523e+01, -3.72796834e-01, -3.94565868e+00,\n",
       "         1.69854498e+00, -1.95706034e+00,  4.11180353e+00,\n",
       "         1.08993614e+00,  2.30192399e+00, -1.27719522e+00,\n",
       "        -1.41640615e+00,  3.71814752e+00, -1.66179049e+00,\n",
       "        -6.83574900e-02, -3.46454453e+00, -4.19976187e+00,\n",
       "         7.06285667e+00, -7.26283491e-02,  1.62970269e+00,\n",
       "         1.80569552e-02],\n",
       "       [-1.68311882e+01,  2.16291771e+01,  3.12358356e+00,\n",
       "        -7.33567381e+00, -9.42614651e+00,  8.83283710e+00,\n",
       "        -4.84775496e+00, -3.54430509e+00, -3.04698682e+00,\n",
       "        -2.23369145e+00, -1.94636047e+00,  4.16310102e-01,\n",
       "         2.74056792e-01, -1.11206317e+00, -2.12770915e+00,\n",
       "        -1.38558674e+00, -3.98966551e-01,  3.97173427e-02,\n",
       "        -1.12927943e-01],\n",
       "       [-3.35735798e-01, -8.32393456e+00, -4.66385889e+00,\n",
       "        -4.97240448e+00,  1.08452678e+00,  7.02252328e-01,\n",
       "        -3.41945314e+00,  9.54749298e+00, -2.82138515e+00,\n",
       "        -3.56806159e+00,  8.24827850e-01,  8.36814022e+00,\n",
       "         1.34707808e+00,  9.12372470e-01, -5.58515131e-01,\n",
       "        -1.70430434e+00,  1.63415074e+00,  2.57643163e-01,\n",
       "         4.92455959e-01],\n",
       "       [ 2.10148811e+01,  5.85756063e+00,  2.40399051e+00,\n",
       "         4.24927616e+00, -2.48448658e+00, -2.77020335e+00,\n",
       "         3.87580562e+00, -3.57404977e-01, -3.94945812e+00,\n",
       "         4.06200171e-01, -3.82976007e+00,  9.91485536e-01,\n",
       "        -4.71784163e+00, -8.73625159e-01,  1.62796998e+00,\n",
       "        -9.67523694e-01,  2.47292817e-01, -3.15859079e-01,\n",
       "         5.52869463e+00],\n",
       "       [-1.18127718e+01, -1.35417814e+01,  5.45966387e+00,\n",
       "         1.92903364e+00, -5.95619011e+00, -2.46156120e+00,\n",
       "        -4.36055517e+00, -3.92765492e-01, -1.11652248e-01,\n",
       "         8.99496269e+00, -4.23862457e+00,  2.08263302e+00,\n",
       "        -9.67307687e-01,  3.01116014e+00, -2.91351175e+00,\n",
       "         2.66875291e+00, -1.44348955e+00, -1.16018303e-01,\n",
       "        -5.55331446e-02],\n",
       "       [ 1.79192734e+01,  3.08689332e+00,  1.13072910e+01,\n",
       "         6.85971928e+00, -2.10781908e+00,  2.22284937e+00,\n",
       "        -3.98987830e-01,  9.28746462e-01,  4.41816866e-01,\n",
       "         5.34141350e+00,  7.46658230e+00, -9.35949802e-01,\n",
       "         1.17998147e+00,  2.13568792e-01, -2.04759836e+00,\n",
       "        -5.02823925e+00,  1.63731933e+00, -1.00042748e+00,\n",
       "        -7.05924690e-01],\n",
       "       [ 1.61684513e+01, -4.85277319e+00,  3.45757174e+00,\n",
       "        -2.00032425e+00,  6.55925655e+00,  3.37344170e+00,\n",
       "        -6.62034321e+00,  4.00504208e+00, -1.03054631e+00,\n",
       "        -3.31099319e+00, -3.20893788e+00, -7.14301062e+00,\n",
       "        -1.93474853e+00,  3.28894281e+00, -1.01334922e-01,\n",
       "        -1.52038300e+00, -3.41049886e+00,  7.11982250e-02,\n",
       "        -9.31870461e-01],\n",
       "       [-1.54278231e+01, -9.59063992e-02, -3.61245489e+00,\n",
       "        -6.31183577e+00, -1.59955931e+00,  1.96757329e+00,\n",
       "         3.61053920e+00,  5.55858755e+00, -1.10096717e+00,\n",
       "         4.61248255e+00,  2.20575833e+00, -1.78915584e+00,\n",
       "        -4.84896612e+00, -3.88765430e+00,  4.73648691e+00,\n",
       "         2.98644274e-01, -1.53903782e+00, -1.82258618e+00,\n",
       "        -1.99962854e+00],\n",
       "       [-1.65045795e+01,  1.18823996e+01, -1.69289188e+01,\n",
       "         1.92207794e+01,  6.08523273e+00, -1.03287005e+00,\n",
       "        -4.80777740e+00,  1.06103957e-01, -9.82511222e-01,\n",
       "         4.81938332e-01,  3.06734890e-01,  2.57761180e-01,\n",
       "        -2.60141730e-01,  1.80084988e-01,  5.17047167e-01,\n",
       "         9.71456617e-02, -1.73146233e-01, -1.35467142e-01,\n",
       "        -3.32585931e-01],\n",
       "       [-7.97783422e+00, -9.14012814e+00,  1.73351264e+00,\n",
       "        -6.42564520e-02,  1.71581376e+00, -2.13458276e+00,\n",
       "        -1.49976099e+00,  5.77999711e-01,  6.31209791e-01,\n",
       "         1.45476192e-01, -5.22458553e+00, -4.61642027e+00,\n",
       "         2.27190924e+00, -4.95938826e+00, -4.91128653e-01,\n",
       "        -1.23949242e+00,  6.65502119e+00,  6.53974712e-01,\n",
       "        -1.79340735e-01],\n",
       "       [-8.32445335e+00, -1.58010998e+01, -1.26795173e+00,\n",
       "         5.46318740e-02, -8.12278652e+00, -8.34679508e+00,\n",
       "        -4.80264187e+00, -5.87515545e+00, -1.43614757e+00,\n",
       "        -5.79493952e+00,  5.71713734e+00, -1.34479594e+00,\n",
       "        -2.45691395e+00,  2.98179849e-03,  1.42395902e+00,\n",
       "        -4.10215139e-01, -2.18952537e-01,  9.54924747e-02,\n",
       "         3.10815901e-01],\n",
       "       [-1.27683306e+01,  7.99234676e+00,  1.63439119e+00,\n",
       "        -3.08548498e+00, -1.30996752e+00, -3.99018550e+00,\n",
       "         2.01770544e+00,  3.40153241e+00,  6.01127386e+00,\n",
       "         1.04276848e+00,  1.75994229e+00, -1.82505298e+00,\n",
       "         1.64597809e+00,  1.44142723e+00,  1.16363382e+00,\n",
       "        -6.11060798e-01, -1.33950245e+00,  6.25474262e+00,\n",
       "         2.10621047e+00],\n",
       "       [-4.83891058e+00,  5.97114754e+00, -6.30890876e-02,\n",
       "        -5.62307477e-01, -1.27590358e+00, -7.64977598e+00,\n",
       "         4.13977861e+00,  2.47980928e+00,  7.69996691e+00,\n",
       "        -3.74821663e+00, -1.48805046e+00, -5.74308971e-04,\n",
       "         9.38705541e-03, -8.33761096e-01, -4.22804928e+00,\n",
       "        -4.89456564e-01, -1.92390406e+00, -4.58347654e+00,\n",
       "         1.13679416e-01],\n",
       "       [ 1.61932030e+01,  8.56656551e+00,  5.88062477e+00,\n",
       "         2.61378455e+00, -1.86403871e+00, -7.65020704e+00,\n",
       "         4.30610943e+00, -1.47046828e+00, -2.32490134e+00,\n",
       "        -1.69705212e+00, -3.35078096e+00,  3.00001216e+00,\n",
       "        -8.03471446e-01,  6.63521945e-01,  1.18434322e+00,\n",
       "         1.60786629e-01,  2.86519468e-01,  2.29253006e+00,\n",
       "        -5.52302074e+00],\n",
       "       [ 1.78251457e+01, -8.43824196e+00, -1.30671444e+01,\n",
       "        -1.64421725e+00, -6.06069684e-01,  9.14028645e+00,\n",
       "        -3.46326679e-01, -5.48129225e+00,  8.42173004e+00,\n",
       "         5.75091481e-01, -1.64694440e+00,  3.25945306e+00,\n",
       "        -2.33610702e+00, -4.86913294e-01,  1.18828225e+00,\n",
       "        -1.53651404e+00,  2.65601009e-01,  8.13804090e-01,\n",
       "        -6.85425878e-01],\n",
       "       [ 8.57388306e+00, -3.04464698e+00, -1.29333849e+01,\n",
       "        -1.19946837e+00, -7.66534185e+00,  7.89192677e-01,\n",
       "         5.02513361e+00, -2.69361526e-01, -2.83614302e+00,\n",
       "         9.00464237e-01, -9.65510070e-01, -2.79133868e+00,\n",
       "         8.16144466e+00,  2.85021329e+00,  2.65575290e+00,\n",
       "         1.62449583e-01, -8.42469275e-01, -1.79637516e+00,\n",
       "         2.94638216e-01]], dtype=float32)"
      ]
     },
     "execution_count": 3,
     "metadata": {},
     "output_type": "execute_result"
    }
   ],
   "source": [
    "pca = np.load(\"data/aaindex/pca-19.npy\")\n",
    "pca"
   ]
  },
  {
   "cell_type": "markdown",
   "metadata": {},
   "source": [
    "The main function for encoding variants is `enc.encode()`. It supports encoding variants specified in two forms: as a full sequence of amino acids or as a list of mutations in the form &lt;current_aa&gt;&lt;position&gt;&lt;replacement_aa&gt;."
   ]
  },
  {
   "cell_type": "markdown",
   "metadata": {},
   "source": [
    "# Encode a full sequence\n",
    "Encoding a variant specified as a full sequence is straightforward. Let's say you want to encode a GB1 variant where the amino acid in position 3 (0-indexed) has been mutated from a K to an A. The full sequence of this variant is:\n",
    "\n",
    "> \"MQYALILNGKTLKGETTTEAVDAATAEKVFKQYANDNGVDGEWTYDDATKTFTVTE\""
   ]
  },
  {
   "cell_type": "code",
   "execution_count": 4,
   "metadata": {},
   "outputs": [
    {
     "data": {
      "text/plain": [
       "array([[ 0.        ,  0.        ,  0.        , ..., -3.4104924 ,\n",
       "         0.07120343, -0.9318722 ],\n",
       "       [ 0.        ,  0.        ,  0.        , ...,  6.655027  ,\n",
       "         0.6539753 , -0.17933992],\n",
       "       [ 0.        ,  0.        ,  0.        , ..., -0.842466  ,\n",
       "        -1.7963753 ,  0.29463208],\n",
       "       ...,\n",
       "       [ 0.        ,  0.        ,  0.        , ...,  0.2865151 ,\n",
       "         2.292554  , -5.5230074 ],\n",
       "       [ 0.        ,  0.        ,  0.        , ..., -1.9239038 ,\n",
       "        -4.5834727 ,  0.11366256],\n",
       "       [ 0.        ,  0.        ,  0.        , ..., -4.8518243 ,\n",
       "         0.7368123 ,  0.46764046]], dtype=float32)"
      ]
     },
     "execution_count": 4,
     "metadata": {},
     "output_type": "execute_result"
    }
   ],
   "source": [
    "char_seq = \"MQYALILNGKTLKGETTTEAVDAATAEKVFKQYANDNGVDGEWTYDDATKTFTVTE\"\n",
    "K3A = enc.encode(encoding=\"one_hot,aa_index\", char_seqs=char_seq)\n",
    "K3A"
   ]
  },
  {
   "cell_type": "markdown",
   "metadata": {},
   "source": [
    "## Encode multiple sequences"
   ]
  },
  {
   "cell_type": "markdown",
   "metadata": {},
   "source": [
    "You can also specify a list of sequences to encode."
   ]
  },
  {
   "cell_type": "code",
   "execution_count": 5,
   "metadata": {},
   "outputs": [
    {
     "data": {
      "text/plain": [
       "(2, 56, 40)"
      ]
     },
     "execution_count": 5,
     "metadata": {},
     "output_type": "execute_result"
    }
   ],
   "source": [
    "char_seqs = [\"MQYALILNGKTLKGETTTEAVDAATAEKVFKQYANDNGVDGEWTYDDATKTFTVTE\",\n",
    "             \"MLYALILNGKTLKGETTTEAVDAATAEKVFKQYANDNGVDGEWTYDDATKTFTVTE\"]\n",
    "encoded_seqs = enc.encode(encoding=\"one_hot,aa_index\", char_seqs=char_seqs)\n",
    "encoded_seqs.shape"
   ]
  },
  {
   "cell_type": "markdown",
   "metadata": {},
   "source": [
    "Dimension 1 corresponds to the number of variants, dimension 2 corresponds to the number of amino acids, and dimension 3 corresponds to the number of features for each amino acid (21 for one-hot encoding and 19 for AAindex for a total of 40)."
   ]
  },
  {
   "cell_type": "markdown",
   "metadata": {},
   "source": [
    "## Use a different encoding \n",
    "If you want to test only one-hot or only AAindex encoding, just specify the single encoding in the function call."
   ]
  },
  {
   "cell_type": "code",
   "execution_count": 6,
   "metadata": {},
   "outputs": [
    {
     "data": {
      "text/plain": [
       "(56, 21)"
      ]
     },
     "metadata": {},
     "output_type": "display_data"
    },
    {
     "data": {
      "text/plain": [
       "array([[False, False, False, ..., False, False, False],\n",
       "       [False, False, False, ..., False, False, False],\n",
       "       [False, False, False, ..., False, False,  True],\n",
       "       ...,\n",
       "       [False, False, False, ...,  True, False, False],\n",
       "       [False, False, False, ..., False, False, False],\n",
       "       [False, False, False, ..., False, False, False]])"
      ]
     },
     "metadata": {},
     "output_type": "display_data"
    }
   ],
   "source": [
    "char_seq = \"MLYKLILNGKTLKGETTTEAVDAATAEKVFKQYANDNGVDGEWTYDDATKTFTVTE\"\n",
    "Q1L = enc.encode(encoding=\"one_hot\", char_seqs=char_seq)\n",
    "display(Q1L.shape)\n",
    "display(Q1L)"
   ]
  },
  {
   "cell_type": "markdown",
   "metadata": {},
   "source": [
    "# Encode lists of mutations\n",
    "A more convenient way to specify variants is as a list of mutations in the form &lt;current_aa&gt;&lt;position&gt;&lt;replacement_aa&gt;. The variant from the previous section where the amino acid in position 3 (0-indexed) has been mutated from a K to an A can be simply specified as\n",
    "\n",
    "> \"K3A\"\n",
    "\n",
    "Multiple mutations in a single variant can be separated by commas:\n",
    "\n",
    "> \"Q1L,K3A\"\n",
    "\n",
    "If you are specifying a list of mutations, you must also specify the wild type sequence `wt_aa` and offset `wt_offset`. The offset is needed if your sequence has a non-zero starting point. For example, if your sequence starts at position 126, and you have variants starting with \"M126\", you must specify an offset of 126. This helps maintain 0-based indexing in the internal code."
   ]
  },
  {
   "cell_type": "code",
   "execution_count": null,
   "metadata": {},
   "outputs": [
    {
     "data": {
      "text/plain": [
       "(2, 56, 40)"
      ]
     },
     "execution_count": 7,
     "metadata": {},
     "output_type": "execute_result"
    }
   ],
   "source": [
    "variants = [\"K3A\", \"Q1L,K3A\"]  # encode two variants\n",
    "gb1_wt = \"MQYKLILNGKTLKGETTTEAVDAATAEKVFKQYANDNGVDGEWTYDDATKTFTVTE\"\n",
    "gb1_offset = 0\n",
    "encoded_variants = enc.encode(encoding=\"one_hot,aa_index\", variants=variants, wt_aa=gb1_wt, wt_offset=gb1_offset)\n",
    "encoded_variants.shape"
   ]
  },
  {
   "cell_type": "markdown",
   "metadata": {},
   "source": [
    "Verify that these encoded variants are the same as the encoded sequences from above."
   ]
  },
  {
   "cell_type": "code",
   "execution_count": 8,
   "metadata": {},
   "outputs": [
    {
     "data": {
      "text/plain": [
       "True"
      ]
     },
     "execution_count": 8,
     "metadata": {},
     "output_type": "execute_result"
    }
   ],
   "source": [
    "np.all(encoded_variants == encoded_seqs)"
   ]
  },
  {
   "cell_type": "markdown",
   "metadata": {},
   "source": [
    "Rather than specifying the wild-type sequence and offset manually, you can define them in `constants.py` and simply specify the dataset name `ds_name` when calling `enc.encode()`."
   ]
  },
  {
   "cell_type": "code",
   "execution_count": 9,
   "metadata": {},
   "outputs": [
    {
     "data": {
      "text/plain": [
       "(2, 56, 40)"
      ]
     },
     "execution_count": 9,
     "metadata": {},
     "output_type": "execute_result"
    }
   ],
   "source": [
    "encoded_variants = enc.encode(encoding=\"one_hot,aa_index\", variants=variants, ds_name=\"gb1\")\n",
    "encoded_variants.shape"
   ]
  },
  {
   "cell_type": "markdown",
   "metadata": {},
   "source": [
    "We have added entries for all of our datasets in `constants.py`. You can also add your own dataset by matching the format we used for our datasets."
   ]
  },
  {
   "cell_type": "code",
   "execution_count": null,
   "metadata": {},
   "outputs": [],
   "source": [
    " "
   ]
  }
 ],
 "metadata": {
  "kernelspec": {
   "display_name": "nn4dms",
   "language": "python",
   "name": "python3"
  },
  "language_info": {
   "codemirror_mode": {
    "name": "ipython",
    "version": 3
   },
   "file_extension": ".py",
   "mimetype": "text/x-python",
   "name": "python",
   "nbconvert_exporter": "python",
   "pygments_lexer": "ipython3",
   "version": "3.6.12"
  },
  "toc-autonumbering": true
 },
 "nbformat": 4,
 "nbformat_minor": 4
}
